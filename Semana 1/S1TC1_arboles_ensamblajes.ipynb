{
 "cells": [
  {
   "cell_type": "markdown",
   "metadata": {},
   "source": [
    "![image info](https://raw.githubusercontent.com/albahnsen/MIAD_ML_and_NLP/main/images/banner_1.png)"
   ]
  },
  {
   "cell_type": "markdown",
   "metadata": {},
   "source": [
    "# Taller: Construcción e implementación de árboles de decisión y métodos de ensamblaje\n",
    "\n",
    "En este taller podrá poner en práctica los sus conocimientos sobre construcción e implementación de árboles de decisión y métodos de ensamblajes. El taller está constituido por 9 puntos, 5 relacionados con árboles de decisión (parte A) y 4 con métodos de ensamblaje (parte B)."
   ]
  },
  {
   "cell_type": "markdown",
   "metadata": {},
   "source": [
    "## Parte A - Árboles de decisión\n",
    "\n",
    "En esta parte del taller se usará el conjunto de datos de Capital Bikeshare de Kaggle, donde cada observación representa el alquiler de bicicletas durante una hora y día determinado. Para más detalles puede visitar los siguientes enlaces: [datos](https://archive.ics.uci.edu/ml/machine-learning-databases/00275/Bike-Sharing-Dataset.zip), [dicccionario de datos](https://archive.ics.uci.edu/ml/datasets/Bike+Sharing+Dataset#)."
   ]
  },
  {
   "cell_type": "markdown",
   "metadata": {},
   "source": [
    "### Datos prestamo de bicicletas"
   ]
  },
  {
   "cell_type": "code",
   "execution_count": 1,
   "metadata": {},
   "outputs": [],
   "source": [
    "import warnings\n",
    "warnings.filterwarnings('ignore')"
   ]
  },
  {
   "cell_type": "code",
   "execution_count": 80,
   "metadata": {},
   "outputs": [],
   "source": [
    "# Importación de librerías\n",
    "%matplotlib inline\n",
    "import pandas as pd\n",
    "import numpy as np\n",
    "from sklearn.model_selection import cross_val_score\n",
    "from sklearn.linear_model import LinearRegression\n",
    "from sklearn.tree import DecisionTreeRegressor, export_graphviz\n",
    "from sklearn.model_selection import train_test_split\n",
    "from sklearn.preprocessing import OneHotEncoder\n",
    "from sklearn.metrics import mean_squared_error, r2_score, mean_absolute_error\n",
    "import matplotlib.pyplot as plt\n",
    "from sklearn.tree import DecisionTreeClassifier\n",
    "from sklearn import metrics\n",
    "from sklearn.linear_model import LogisticRegression"
   ]
  },
  {
   "cell_type": "code",
   "execution_count": 3,
   "metadata": {},
   "outputs": [
    {
     "data": {
      "text/html": [
       "<div>\n",
       "<style scoped>\n",
       "    .dataframe tbody tr th:only-of-type {\n",
       "        vertical-align: middle;\n",
       "    }\n",
       "\n",
       "    .dataframe tbody tr th {\n",
       "        vertical-align: top;\n",
       "    }\n",
       "\n",
       "    .dataframe thead th {\n",
       "        text-align: right;\n",
       "    }\n",
       "</style>\n",
       "<table border=\"1\" class=\"dataframe\">\n",
       "  <thead>\n",
       "    <tr style=\"text-align: right;\">\n",
       "      <th></th>\n",
       "      <th>season</th>\n",
       "      <th>holiday</th>\n",
       "      <th>workingday</th>\n",
       "      <th>weather</th>\n",
       "      <th>temp</th>\n",
       "      <th>atemp</th>\n",
       "      <th>humidity</th>\n",
       "      <th>windspeed</th>\n",
       "      <th>casual</th>\n",
       "      <th>registered</th>\n",
       "      <th>total</th>\n",
       "      <th>hour</th>\n",
       "    </tr>\n",
       "    <tr>\n",
       "      <th>datetime</th>\n",
       "      <th></th>\n",
       "      <th></th>\n",
       "      <th></th>\n",
       "      <th></th>\n",
       "      <th></th>\n",
       "      <th></th>\n",
       "      <th></th>\n",
       "      <th></th>\n",
       "      <th></th>\n",
       "      <th></th>\n",
       "      <th></th>\n",
       "      <th></th>\n",
       "    </tr>\n",
       "  </thead>\n",
       "  <tbody>\n",
       "    <tr>\n",
       "      <th>2011-01-01 00:00:00</th>\n",
       "      <td>1</td>\n",
       "      <td>0</td>\n",
       "      <td>0</td>\n",
       "      <td>1</td>\n",
       "      <td>9.84</td>\n",
       "      <td>14.395</td>\n",
       "      <td>81</td>\n",
       "      <td>0.0</td>\n",
       "      <td>3</td>\n",
       "      <td>13</td>\n",
       "      <td>16</td>\n",
       "      <td>0</td>\n",
       "    </tr>\n",
       "    <tr>\n",
       "      <th>2011-01-01 01:00:00</th>\n",
       "      <td>1</td>\n",
       "      <td>0</td>\n",
       "      <td>0</td>\n",
       "      <td>1</td>\n",
       "      <td>9.02</td>\n",
       "      <td>13.635</td>\n",
       "      <td>80</td>\n",
       "      <td>0.0</td>\n",
       "      <td>8</td>\n",
       "      <td>32</td>\n",
       "      <td>40</td>\n",
       "      <td>1</td>\n",
       "    </tr>\n",
       "    <tr>\n",
       "      <th>2011-01-01 02:00:00</th>\n",
       "      <td>1</td>\n",
       "      <td>0</td>\n",
       "      <td>0</td>\n",
       "      <td>1</td>\n",
       "      <td>9.02</td>\n",
       "      <td>13.635</td>\n",
       "      <td>80</td>\n",
       "      <td>0.0</td>\n",
       "      <td>5</td>\n",
       "      <td>27</td>\n",
       "      <td>32</td>\n",
       "      <td>2</td>\n",
       "    </tr>\n",
       "    <tr>\n",
       "      <th>2011-01-01 03:00:00</th>\n",
       "      <td>1</td>\n",
       "      <td>0</td>\n",
       "      <td>0</td>\n",
       "      <td>1</td>\n",
       "      <td>9.84</td>\n",
       "      <td>14.395</td>\n",
       "      <td>75</td>\n",
       "      <td>0.0</td>\n",
       "      <td>3</td>\n",
       "      <td>10</td>\n",
       "      <td>13</td>\n",
       "      <td>3</td>\n",
       "    </tr>\n",
       "    <tr>\n",
       "      <th>2011-01-01 04:00:00</th>\n",
       "      <td>1</td>\n",
       "      <td>0</td>\n",
       "      <td>0</td>\n",
       "      <td>1</td>\n",
       "      <td>9.84</td>\n",
       "      <td>14.395</td>\n",
       "      <td>75</td>\n",
       "      <td>0.0</td>\n",
       "      <td>0</td>\n",
       "      <td>1</td>\n",
       "      <td>1</td>\n",
       "      <td>4</td>\n",
       "    </tr>\n",
       "  </tbody>\n",
       "</table>\n",
       "</div>"
      ],
      "text/plain": [
       "                     season  holiday  workingday  weather  temp   atemp  \\\n",
       "datetime                                                                  \n",
       "2011-01-01 00:00:00       1        0           0        1  9.84  14.395   \n",
       "2011-01-01 01:00:00       1        0           0        1  9.02  13.635   \n",
       "2011-01-01 02:00:00       1        0           0        1  9.02  13.635   \n",
       "2011-01-01 03:00:00       1        0           0        1  9.84  14.395   \n",
       "2011-01-01 04:00:00       1        0           0        1  9.84  14.395   \n",
       "\n",
       "                     humidity  windspeed  casual  registered  total  hour  \n",
       "datetime                                                                   \n",
       "2011-01-01 00:00:00        81        0.0       3          13     16     0  \n",
       "2011-01-01 01:00:00        80        0.0       8          32     40     1  \n",
       "2011-01-01 02:00:00        80        0.0       5          27     32     2  \n",
       "2011-01-01 03:00:00        75        0.0       3          10     13     3  \n",
       "2011-01-01 04:00:00        75        0.0       0           1      1     4  "
      ]
     },
     "execution_count": 3,
     "metadata": {},
     "output_type": "execute_result"
    }
   ],
   "source": [
    "# Lectura de la información de archivo .csv\n",
    "bikes = pd.read_csv('https://raw.githubusercontent.com/davidzarruk/MIAD_ML_NLP_2023/main/datasets/bikeshare.csv', index_col='datetime', parse_dates=True)\n",
    "\n",
    "# Renombrar variable \"count\" a \"total\"\n",
    "bikes.rename(columns={'count':'total'}, inplace=True)\n",
    "\n",
    "# Crear la hora como una variable \n",
    "bikes['hour'] = bikes.index.hour\n",
    "\n",
    "# Visualización de los datoss\n",
    "bikes.head()"
   ]
  },
  {
   "cell_type": "markdown",
   "metadata": {},
   "source": [
    "### Punto 1 - Análisis descriptivo\n",
    "\n",
    "Ejecute las celdas 1.1 y 1.2. A partir de los resultados realice un análisis descriptivo sobre las variables \"season\" y \"hour\", escriba sus inferencias sobre los datos. Para complementar su análisis puede usar métricas como máximo, mínimo, percentiles entre otros."
   ]
  },
  {
   "cell_type": "code",
   "execution_count": 6,
   "metadata": {},
   "outputs": [
    {
     "data": {
      "text/plain": [
       "season\n",
       "1    116.343261\n",
       "2    215.251372\n",
       "3    234.417124\n",
       "4    198.988296\n",
       "Name: total, dtype: float64"
      ]
     },
     "execution_count": 6,
     "metadata": {},
     "output_type": "execute_result"
    }
   ],
   "source": [
    "# Celda 1.1\n",
    "bikes.groupby('season').total.mean()"
   ]
  },
  {
   "cell_type": "code",
   "execution_count": null,
   "metadata": {},
   "outputs": [
    {
     "name": "stdout",
     "output_type": "stream",
     "text": [
      "          promedio  minimo  maximo  desviacion  percentil_25  percentil_50  \\\n",
      "season                                                                       \n",
      "1       116.343261       1     801  125.273974          24.0          78.0   \n",
      "2       215.251372       1     873  192.007843          49.0         172.0   \n",
      "3       234.417124       1     977  197.151001          68.0         195.0   \n",
      "4       198.988296       1     948  177.622409          51.0         161.0   \n",
      "\n",
      "        percentil_75  \n",
      "season                \n",
      "1              164.0  \n",
      "2              321.0  \n",
      "3              347.0  \n",
      "4              294.0  \n"
     ]
    }
   ],
   "source": [
    "# Agrupar por estación (season) y calcular las métricas necesarias\n",
    "resultados_estaciones = bikes.groupby('season')['total'].agg(\n",
    "    promedio='mean',             # Promedio\n",
    "    minimo='min',                # Mínimo\n",
    "    maximo='max',                # Máximo\n",
    "    desviacion='std',            # Desviación estándar\n",
    "    percentil_25=lambda x: x.quantile(0.25),  # Percentil 25\n",
    "    percentil_50=lambda x: x.quantile(0.50),  # Percentil 50 (mediana)\n",
    "    percentil_75=lambda x: x.quantile(0.75)   # Percentil 75\n",
    ")\n",
    "\n",
    "# Mostrar la tabla \n",
    "print(resultados_estaciones)"
   ]
  },
  {
   "cell_type": "code",
   "execution_count": 5,
   "metadata": {
    "scrolled": true
   },
   "outputs": [
    {
     "data": {
      "text/plain": [
       "hour\n",
       "0      55.138462\n",
       "1      33.859031\n",
       "2      22.899554\n",
       "3      11.757506\n",
       "4       6.407240\n",
       "5      19.767699\n",
       "6      76.259341\n",
       "7     213.116484\n",
       "8     362.769231\n",
       "9     221.780220\n",
       "10    175.092308\n",
       "11    210.674725\n",
       "12    256.508772\n",
       "13    257.787281\n",
       "14    243.442982\n",
       "15    254.298246\n",
       "16    316.372807\n",
       "17    468.765351\n",
       "18    430.859649\n",
       "19    315.278509\n",
       "20    228.517544\n",
       "21    173.370614\n",
       "22    133.576754\n",
       "23     89.508772\n",
       "Name: total, dtype: float64"
      ]
     },
     "execution_count": 5,
     "metadata": {},
     "output_type": "execute_result"
    }
   ],
   "source": [
    "# Celda 1.2\n",
    "bikes.groupby('hour').total.mean()"
   ]
  },
  {
   "cell_type": "code",
   "execution_count": 9,
   "metadata": {},
   "outputs": [
    {
     "name": "stdout",
     "output_type": "stream",
     "text": [
      "        promedio  minimo  maximo  desviacion  percentil_25  percentil_50  \\\n",
      "hour                                                                       \n",
      "0      55.138462       2     283   43.620012         24.00          41.0   \n",
      "1      33.859031       1     168   34.112105         11.00          19.0   \n",
      "2      22.899554       1     119   26.110267          5.00          11.0   \n",
      "3      11.757506       1      66   12.666442          3.00           6.0   \n",
      "4       6.407240       1      28    4.217633          3.00           6.0   \n",
      "5      19.767699       1      57   12.784293          8.00          19.0   \n",
      "6      76.259341       1     213   54.745333         24.50          75.0   \n",
      "7     213.116484       1     596  159.207044         63.00         208.0   \n",
      "8     362.769231       8     839  231.723065        133.50         392.0   \n",
      "9     221.780220      14     414   92.099209        161.00         217.0   \n",
      "10    175.092308      17     539  101.807629        106.00         149.0   \n",
      "11    210.674725      10     647  127.444294        123.00         183.0   \n",
      "12    256.508772       3     757  143.881880        157.00         234.5   \n",
      "13    257.787281      11     729  149.167185        154.00         226.5   \n",
      "14    243.442982      12     730  147.563199        144.00         212.0   \n",
      "15    254.298246       7     724  144.235670        154.00         232.0   \n",
      "16    316.372807      11     783  145.664786        211.75         309.5   \n",
      "17    468.765351      15     970  223.775485        277.00         480.5   \n",
      "18    430.859649      23     977  219.908138        240.75         422.5   \n",
      "19    315.278509      11     743  156.641732        190.00         312.5   \n",
      "20    228.517544      11     551  116.411565        136.75         224.0   \n",
      "21    173.370614       6     584   87.629319        103.50         171.5   \n",
      "22    133.576754       9     502   69.844495         80.00         129.0   \n",
      "23     89.508772       4     256   51.638004         52.75          80.0   \n",
      "\n",
      "      percentil_75  \n",
      "hour                \n",
      "0            74.50  \n",
      "1            46.00  \n",
      "2            32.00  \n",
      "3            15.00  \n",
      "4             9.00  \n",
      "5            29.00  \n",
      "6           118.00  \n",
      "7           334.00  \n",
      "8           563.50  \n",
      "9           294.50  \n",
      "10          218.50  \n",
      "11          265.50  \n",
      "12          332.00  \n",
      "13          329.00  \n",
      "14          311.25  \n",
      "15          331.00  \n",
      "16          421.00  \n",
      "17          608.50  \n",
      "18          564.00  \n",
      "19          416.00  \n",
      "20          302.00  \n",
      "21          230.00  \n",
      "22          175.00  \n",
      "23          123.00  \n"
     ]
    }
   ],
   "source": [
    "# Agrupar por estación (season) y calcular las métricas necesarias\n",
    "resultados_estaciones = bikes.groupby('hour')['total'].agg(\n",
    "    promedio='mean',             # Promedio\n",
    "    minimo='min',                # Mínimo\n",
    "    maximo='max',                # Máximo\n",
    "    desviacion='std',            # Desviación estándar\n",
    "    percentil_25=lambda x: x.quantile(0.25),  # Percentil 25\n",
    "    percentil_50=lambda x: x.quantile(0.50),  # Percentil 50 (mediana)\n",
    "    percentil_75=lambda x: x.quantile(0.75)   # Percentil 75\n",
    ")\n",
    "\n",
    "# Mostrar la tabla \n",
    "print(resultados_estaciones)"
   ]
  },
  {
   "cell_type": "markdown",
   "metadata": {},
   "source": [
    "## Analisis descriptivo\n",
    "\n",
    "Para la variable season, se tienen 4 grupos diferentes que hacen referencia a lsa 4 estaciones y se analiza en un primer lugar el promedio, la desviacion estandar, el  minimo y maximo de las bicicletas alquiladas durante las estaciones:\n",
    "- Se observa que la temporada donde el promedio de alquiler es más bajo, es durante la temporada de invierno, lo que implica que hay menor demanda. Y la temporada con el promedio más alto ocurre durante verano.\n",
    "- El minimo de las bicicletas alquiladas por hora en todas las estaciones fue de 1, mientras que el maximo de bicicletas alquiladas si difieren entre cada estacion, durante el verano se obtiene  el maximo numero, mientras que en invierno se obtiene el numero más bajo del maximo de bicicletas rentadas, lo cual estaría acorde con la realidad, ya que en invierno hay menor demanda.\n",
    "- Durante el verano , la desviación estándar es más alta que en las otras estaciones. Esto indica que la cantidad de bicicletas alquiladas es más variable durante esta temporada, lo que puede sugerir que hay más fluctuaciones en la demanda. Podría ser el caso de picos de alta demanda durante días muy cálidos o fines de semana, y períodos de menor demanda entre semana.\n",
    "-  Se observa que el percentil  50 de la variable de invierno es muchisimo menor que el resto de las temporadas (aproximadamente la mitad),  además, la mediana es cercana al promedio, lo que refuerza la idea de que la demanda es consistente pero baja. Mientras que en  verano, la mediana es muchisimo mas alta, la cual coincide con el promedio elevado de esta temporada.\n",
    "\n",
    "En el caso de las horas, se observa lo  siguiente:\n",
    "- En todas las horas del día se observa que hay demanda de alquiler de bicicletas, esto se observa al analizar los promedios de bicicletas rentadas por hora. Durante las horas de la mañana el promedio nos es tan alto, se observa que a las 8am hay un promedio alto y luego se observa otro promedio alto entre las 5 y  6 de la tarde, lo cual podría estar relacionado a las horas de entrada y salidas escolares o laborales.\n",
    "- Analizando los Minimos y Maximos, se observa que los minimos en la mañana sn bastante bajos comparado con el resto de las horas, entre las 0 y 7am hay un minimo 7 de 1 bicicleta rentada, que, comparado con lsa horas de la tarde, donde se  alcanza  un minimo 23 bicicletas rentadas a las 6pm. Al analizad los máximos, se observan valores altos a las 8am, y entre 5 y 6pm, siendo congruente con el promedio de estas horas, afianzando que durante estas horas hay una mayor demanda de alquiler de bicicletas.\n",
    "- Por ultimo, analizando los percentiles es posible notar que las 4am es la hora con los percentiles más bajos, y analizando junto al promedio, minimo y máximo, se concluye que a esta hora ocurre la menor demanda de alquiler de bicicletas."
   ]
  },
  {
   "cell_type": "markdown",
   "metadata": {},
   "source": [
    "### Punto 2 - Análisis de gráficos\n",
    "\n",
    "Primero ejecute la celda 2.1 y asegúrese de comprender el código y el resultado. Luego, en cada una de celdas 2.2 y 2.3 escriba un código que genere una gráfica del número de bicicletas rentadas promedio para cada valor de la variable \"hour\" (hora) cuando la variable \"season\" es igual a 1 (invierno) e igual a 3 (verano), respectivamente. Analice y escriba sus hallazgos."
   ]
  },
  {
   "cell_type": "code",
   "execution_count": 10,
   "metadata": {},
   "outputs": [
    {
     "data": {
      "text/plain": [
       "<Axes: xlabel='hour'>"
      ]
     },
     "execution_count": 10,
     "metadata": {},
     "output_type": "execute_result"
    },
    {
     "data": {
      "image/png": "[encoded data removed]",
      "text/plain": [
       "<Figure size 640x480 with 1 Axes>"
      ]
     },
     "metadata": {},
     "output_type": "display_data"
    }
   ],
   "source": [
    "# Celda 2.1 - rentas promedio para cada valor de la variable \"hour\"\n",
    "bikes.groupby('hour').total.mean().plot()"
   ]
  },
  {
   "cell_type": "code",
   "execution_count": 11,
   "metadata": {},
   "outputs": [
    {
     "data": {
      "text/plain": [
       "<Axes: title={'center': 'Promedio de Alquileres por Hora - Invierno (Season 1)'}, xlabel='hour'>"
      ]
     },
     "execution_count": 11,
     "metadata": {},
     "output_type": "execute_result"
    },
    {
     "data": {
      "image/png": "[encoded data removed]",
      "text/plain": [
       "<Figure size 640x480 with 1 Axes>"
      ]
     },
     "metadata": {},
     "output_type": "display_data"
    }
   ],
   "source": [
    "# Celda 2.2 - \"season\"=1 escriba su código y hallazgos \n",
    "bikes.loc[bikes['season'] == 1].groupby('hour').total.mean().plot(title='Promedio de Alquileres por Hora - Invierno (Season 1)')\n"
   ]
  },
  {
   "cell_type": "code",
   "execution_count": 13,
   "metadata": {},
   "outputs": [
    {
     "data": {
      "text/plain": [
       "<Axes: title={'center': 'Promedio de Alquileres por Hora - Verano (Season 3)'}, xlabel='hour'>"
      ]
     },
     "execution_count": 13,
     "metadata": {},
     "output_type": "execute_result"
    },
    {
     "data": {
      "image/png": "[encoded data removed]",
      "text/plain": [
       "<Figure size 640x480 with 1 Axes>"
      ]
     },
     "metadata": {},
     "output_type": "display_data"
    }
   ],
   "source": [
    "# Celda 2.3 - \"season\"=3 escriba su código y hallazgos \n",
    "bikes.loc[bikes['season'] == 3].groupby('hour').total.mean().plot(title='Promedio de Alquileres por Hora - Verano (Season 3)')"
   ]
  },
  {
   "cell_type": "markdown",
   "metadata": {},
   "source": [
    "## Analisis de promedio de bicicletas rentadas por hora en Verano e Invierno\n",
    "\n",
    "- Al analizar los gráficos se observa inicialmente (considerando todas las estaciones), que se alcanzan dos picos bastantes altos a las 8am y 6pm, y que entre las 12am y 5am, el promedio de bicicletas alquiladas decae bastante.\n",
    "- Luego, al analizar los promedio durante el invierno, se siguen observando los mismos picos a las 8am y 5-6pm, pero con promedios mucho más bajos que el de todas las estaciones en conjunto, durante el invierno se observa que los promedios de las horas pico pueden alcanzar casi 300 bicicletas rentadas en promedio, mientras que si se consideran todas las estaciones este promedio alcanza casi 500 bicicletas rentadas. Esto indica, que se siguen manteniendo las horas picos, pero la demanda durante invierno decae.\n",
    "- Analizando la temporada de verano, se observan los mismos dos picos que las graficas anteriores, pero con promedios de alquiler de bicicletas mucho más altos, alcanzando aproximadamente más de 550 bicicletas rentadas a las 6pm, siendo muchimos más alto que el promedio durante invierno y el de todas las temporadas.\n",
    "- Para las 3 gráficas se observa un comportamiento similar, entre las 12am y 5am son las horas de muy baja demanda, a las 8am y 5-6pm se tienen las horas pico más altas, al medio día se observa un pequeño incremento nuevamente del alquiler de bicicletas pero vuelve a bajar, y después de las 6pm la demanda empiezaa a decaer en picada."
   ]
  },
  {
   "cell_type": "markdown",
   "metadata": {},
   "source": [
    "### Punto 3 - Regresión lineal\n",
    "En la celda 3 ajuste un modelo de regresión lineal a un conjunto de train de datos, utilizando \"total\" como variable de respuesta y \"season\" y \"hour\" como las únicas variables predictoras, teniendo en cuenta que la variable \"season\" es categórica. Luego, imprima los coeficientes e interprételos. ¿Cuáles son las limitaciones de la regresión lineal en este caso?"
   ]
  },
  {
   "cell_type": "code",
   "execution_count": 36,
   "metadata": {},
   "outputs": [
    {
     "name": "stdout",
     "output_type": "stream",
     "text": [
      "Puntuaciones R² de cada fold: [0.23620205 0.20660991 0.2186271  0.2171507  0.25175796]\n",
      "Puntuación media (R²): 0.2260695458721068\n",
      "RMSE: 159.97572650003448\n",
      "          Coeficientes\n",
      "season_2     99.758492\n",
      "season_3    115.078340\n",
      "season_4     88.918206\n",
      "hour         10.727042\n"
     ]
    }
   ],
   "source": [
    "# Celda 3\n",
    "\n",
    "# Filtrar las columnas relevantes\n",
    "# Variables predictoras\n",
    "X = bikes[['season', 'hour']] \n",
    "\n",
    "# Variable respuesta\n",
    "y = bikes['total']  \n",
    "\n",
    "# Codificar seaso con OneHotEncoder\n",
    "encoder = OneHotEncoder(drop='first', sparse_output=False) \n",
    "season_encoded = encoder.fit_transform(X[['season']])\n",
    "\n",
    "season_df = pd.DataFrame(season_encoded, columns=encoder.get_feature_names_out(['season']))\n",
    "X_encoded = pd.concat([season_df, X[['hour']].reset_index(drop=True)], axis=1)\n",
    "\n",
    "#Separandao  las variables en entrenamiento y prueba\n",
    "xTrain, xTest, yTrain, yTest = train_test_split(X_encoded, y, test_size=0.3, random_state=42)\n",
    "\n",
    "#Inicindo el modelo\n",
    "lr= LinearRegression()\n",
    "\n",
    "# Realizar la validación cruzada con 5 folds utilizando cross_val_score\n",
    "scores = cross_val_score(lr, xTrain, yTrain, cv=5, scoring='r2')\n",
    "\n",
    "# Imprimir las puntuaciones obtenidas en cada fold\n",
    "print(\"Puntuaciones R² de cada fold:\", scores)\n",
    "\n",
    "# Puntuación media de R²\n",
    "print(\"Puntuación media (R²):\", scores.mean())\n",
    "\n",
    "# Ajustar el modelo con todo el conjunto de entrenamiento (xTrain, yTrain)\n",
    "lr.fit(xTrain, yTrain)\n",
    "\n",
    "# Predicción del modelo de regresión lineal\n",
    "y_pred_lr = lr.predict(xTest)  \n",
    "\n",
    "rmse_lr = np.sqrt(mean_squared_error(yTest, y_pred_lr))\n",
    "\n",
    "print(f\"RMSE: {rmse_lr}\")\n",
    "\n",
    "# Obtener los coeficientes después de ajustar el modelo\n",
    "coefficients = pd.DataFrame(lr.coef_, xTrain.columns, columns=[\"Coeficientes\"])\n",
    "\n",
    "# Imprimir los coeficientes\n",
    "print(coefficients)\n",
    "\n"
   ]
  },
  {
   "cell_type": "markdown",
   "metadata": {},
   "source": [
    "## Analisis de Modelo de Regresion Lineal\n",
    "\n",
    "- Como la variable season es una variable categórtica, fue necario transformar esta variable por el metodo de OneHot, creando nuevas columas para cada una de las categorías. Al analizar los coeficientes para estas nuevas variables, se observa que el coeficiente de la Temporada 2 es de 99, lo que indica que, en la primavera se alquilan 99 bicicletas en promedio más que en invierno. Lo mismo ocurre para el verano, se obtiene un coeficiente positivo, lo cual indica que en el verano se alquilan 115 bicicletas más en promedio que durante el Invierno, siendo este el coeficiente más alto.\n",
    "- En el caso de la variable horas, tambien se tiene un coeficiente positivo, indicando que cada hora de más que se tiene, se aumenta en promedio 10 bicicletas rentadas.\n",
    "\n",
    "Aunque es posible analizar estos coficientes, al observar la métrica de R-squared, la cual tiene una puntuacion media de 0.22, este valor indica que el modelo no está logrando explicar muy bien la variabilidad de los datos (un R-squared bueno es cercano a 1), y esto se podría deber, a que al considerar un modelo Lineal, este modelo podría no estar captando las diferentes relaciones que hay entre las variables predictoras y la variable de respuesta, las cuales podrían tener relaciones no lineales, ocasionando que el modelo no se ajuste bien a los datos."
   ]
  },
  {
   "cell_type": "markdown",
   "metadata": {},
   "source": [
    "### Punto 4 - Árbol de decisión manual\n",
    "En la celda 4 cree un árbol de decisiones para pronosticar la variable \"total\" iterando **manualmente** sobre las variables \"hour\" y  \"season\". El árbol debe tener al menos 6 nodos finales."
   ]
  },
  {
   "cell_type": "code",
   "execution_count": null,
   "metadata": {},
   "outputs": [
    {
     "data": {
      "text/plain": [
       "array([1., 1., 1., ..., 1., 1., 1.])"
      ]
     },
     "execution_count": 33,
     "metadata": {},
     "output_type": "execute_result"
    }
   ],
   "source": [
    "# Celda 4\n",
    "# Definición de la función que calcula el gini index\n",
    "def gini(y):\n",
    "    if y.shape[0] == 0:\n",
    "        return 0\n",
    "    else:\n",
    "        return 1 - (y.mean()**2 + (1 - y.mean())**2)\n",
    "\n",
    "# Definición de la función gini_imputiry para calular la ganancia de una variable predictora j dado el punto de corte k\n",
    "def gini_impurity(X_col, y, split):\n",
    "    \n",
    "    filter_l = X_col < split\n",
    "    y_l = y.loc[filter_l]\n",
    "    y_r = y.loc[~filter_l]\n",
    "    \n",
    "    n_l = y_l.shape[0]\n",
    "    n_r = y_r.shape[0]\n",
    "    \n",
    "    gini_y = gini(y)\n",
    "    gini_l = gini(y_l)\n",
    "    gini_r = gini(y_r)\n",
    "    \n",
    "    gini_impurity_ = gini_y - (n_l / (n_l + n_r) * gini_l + n_r / (n_l + n_r) * gini_r)\n",
    "    \n",
    "    return gini_impurity_\n",
    "\n",
    "# Definición de la función best_split para calcular cuál es la mejor variable y punto de cortepara hacer la bifurcación del árbol\n",
    "def best_split(X, y, num_pct=10):\n",
    "    \n",
    "    features = range(X.shape[1])\n",
    "    \n",
    "    best_split = [0, 0, 0]  # j, split, gain\n",
    "    \n",
    "    # Para todas las varibles \n",
    "    for j in features:\n",
    "        \n",
    "        splits = np.percentile(X.iloc[:, j], np.arange(0, 100, 100.0 / (num_pct+1)).tolist())\n",
    "        splits = np.unique(splits)[1:]\n",
    "        \n",
    "        # Para cada partición\n",
    "        for split in splits:\n",
    "            gain = gini_impurity(X.iloc[:, j], y, split)\n",
    "                        \n",
    "            if gain > best_split[2]:\n",
    "                best_split = [j, split, gain]\n",
    "    \n",
    "    return best_split\n",
    "\n",
    "# Definición de la función tree_grow para hacer un crecimiento recursivo del árbol\n",
    "def tree_grow(X, y, level=0, min_gain=0.001, max_depth=None, num_pct=10):\n",
    "    \n",
    "    # Si solo es una observación\n",
    "    if X.shape[0] == 1:\n",
    "        tree = dict(y_pred=y.iloc[:1].values[0], y_prob=0.5, level=level, split=-1, n_samples=1, gain=0)\n",
    "        return tree\n",
    "    \n",
    "    # Calcular la mejor división\n",
    "    j, split, gain = best_split(X, y, num_pct)\n",
    "    \n",
    "    # Guardar el árbol y estimar la predicción\n",
    "    y_pred = int(y.mean() >= 0.5) \n",
    "    y_prob = (y.sum() + 1.0) / (y.shape[0] + 2.0)  # Corrección Laplace \n",
    "    \n",
    "    tree = dict(y_pred=y_pred, y_prob=y_prob, level=level, split=-1, n_samples=X.shape[0], gain=gain)\n",
    "    # Revisar el criterio de parada \n",
    "    if gain < min_gain:\n",
    "        return tree\n",
    "    if max_depth is not None:\n",
    "        if level >= max_depth:\n",
    "            return tree   \n",
    "    \n",
    "    # Continuar creando la partición\n",
    "    filter_l = X.iloc[:, j] < split\n",
    "    X_l, y_l = X.loc[filter_l], y.loc[filter_l]\n",
    "    X_r, y_r = X.loc[~filter_l], y.loc[~filter_l]\n",
    "    tree['split'] = [j, split]\n",
    "\n",
    "    # Siguiente iteración para cada partición\n",
    "    \n",
    "    tree['sl'] = tree_grow(X_l, y_l, level + 1, min_gain=min_gain, max_depth=max_depth, num_pct=num_pct)\n",
    "    tree['sr'] = tree_grow(X_r, y_r, level + 1, min_gain=min_gain, max_depth=max_depth, num_pct=num_pct)\n",
    "    \n",
    "    return tree\n",
    "\n",
    "# Aplicación de la función tree_grow, colocnago 6 nodos finales\n",
    "tree = tree_grow(X, y, level=0, min_gain=0.001, max_depth=6, num_pct=10)\n",
    "tree\n",
    "\n",
    "def tree_predict(X, tree, proba=False):\n",
    "    \n",
    "    predicted = np.ones(X.shape[0])\n",
    "\n",
    "    # Revisar si es el nodo final\n",
    "    if tree['split'] == -1:\n",
    "        if not proba:\n",
    "            predicted = predicted * tree['y_pred']\n",
    "        else:\n",
    "            predicted = predicted * tree['y_prob']\n",
    "            \n",
    "    else:\n",
    "        \n",
    "        j, split = tree['split']\n",
    "        filter_l = (X.iloc[:, j] < split)\n",
    "        X_l = X.loc[filter_l]\n",
    "        X_r = X.loc[~filter_l]\n",
    "\n",
    "        if X_l.shape[0] == 0:  # Si el nodo izquierdo está vacio solo continua con el derecho \n",
    "            predicted[~filter_l] = tree_predict(X_r, tree['sr'], proba)\n",
    "        elif X_r.shape[0] == 0:  #  Si el nodo derecho está vacio solo continua con el izquierdo\n",
    "            predicted[filter_l] = tree_predict(X_l, tree['sl'], proba)\n",
    "        else:\n",
    "            predicted[filter_l] = tree_predict(X_l, tree['sl'], proba)\n",
    "            predicted[~filter_l] = tree_predict(X_r, tree['sr'], proba)\n",
    "\n",
    "    return predicted\n",
    "\n",
    "# Ejecución de función tree_predict\n",
    "tree_predict(X, tree)\n"
   ]
  },
  {
   "cell_type": "markdown",
   "metadata": {},
   "source": [
    "### Punto 5 - Árbol de decisión con librería\n",
    "En la celda 5 entrene un árbol de decisiones con la **librería sklearn**, usando las variables predictoras \"season\" y \"hour\" y calibre los parámetros que considere conveniente para obtener un mejor desempeño. Recuerde dividir los datos en conjuntos de entrenamiento y validación para esto. Comente el desempeño del modelo con alguna métrica de desempeño de modelos de regresión y compare desempeño con el modelo del punto 3."
   ]
  },
  {
   "cell_type": "code",
   "execution_count": 56,
   "metadata": {},
   "outputs": [
    {
     "data": {
      "image/png": "[encoded data removed]",
      "text/plain": [
       "<Figure size 1400x600 with 2 Axes>"
      ]
     },
     "metadata": {},
     "output_type": "display_data"
    },
    {
     "name": "stdout",
     "output_type": "stream",
     "text": [
      "El mejor valor de RMSE es 121.94259382561488 con una profundidad máxima (max_depth) de 6.\n",
      "El mejor valor de R-squared es 0.1369 con una profundidad máxima (max_depth) de 6.\n"
     ]
    }
   ],
   "source": [
    "# Celda 5\n",
    "\n",
    "# Filtrar las columnas relevantes\n",
    "# Variables predictoras\n",
    "X = bikes[['season', 'hour']] \n",
    "\n",
    "# Variable respuesta\n",
    "y = bikes['total'] \n",
    "\n",
    "#Separandao  ls variables en entrenamiento y prueba\n",
    "xTrain, xTest, yTrain, yTest = train_test_split(X, y, test_size=0.3, random_state=42)\n",
    "\n",
    "# Lista de valores para calibrar el criterio de parada de máxima profundidad (max_depth)\n",
    "max_depth_range = range(1, 21)\n",
    "\n",
    "# Lista para guardar los valores de RMSE para cada valor de máxima profundidad (max_depth)\n",
    "rmse_scores = []\n",
    "# Lista para guardar los valores de R-squared para cada valor de máxima profundidad (max_depth)\n",
    "r2_scores = []\n",
    "\n",
    "# Rango de valores para max_depth\n",
    "max_depth_range = range(1, 21)\n",
    "\n",
    "# Loop para obtener el desempeño del modelo de acuerdo con la máxima profundidad\n",
    "for depth in max_depth_range:\n",
    "    # Definición del árbol de decisión usando DecisionTreeRegressor de la librería sklearn\n",
    "    clf = DecisionTreeRegressor(max_depth=depth, random_state=1)\n",
    "    \n",
    "    # Obtener la puntuación RMSE (usando 'neg_root_mean_squared_error' para que los valores sean negativos)\n",
    "    rmse_scores.append(-cross_val_score(clf, X, y, cv=10, scoring='neg_root_mean_squared_error').mean())\n",
    "    \n",
    "    # Obtener la puntuación R-squared\n",
    "    r2_scores.append(cross_val_score(clf, X, y, cv=10, scoring='r2').mean())\n",
    "\n",
    "# Crear la figura para mostrar los dos gráficos\n",
    "fig, axes = plt.subplots(1, 2, figsize=(14, 6))  # 1 fila, 2 columnas\n",
    "\n",
    "# Primer gráfico (RMSE)\n",
    "axes[0].plot(max_depth_range, rmse_scores, marker='o', color='b', label='RMSE')\n",
    "axes[0].set_xlabel('max_depth')\n",
    "axes[0].set_ylabel('RMSE')\n",
    "axes[0].set_title('Max Depth vs RMSE')\n",
    "axes[0].grid(True)\n",
    "\n",
    "# Segundo gráfico (R-squared)\n",
    "axes[1].plot(max_depth_range, r2_scores, marker='o', color='g', label='R-squared')\n",
    "axes[1].set_xlabel('max_depth')\n",
    "axes[1].set_ylabel('R-squared')\n",
    "axes[1].set_title('Max Depth vs R-squared')\n",
    "axes[1].grid(True)\n",
    "\n",
    "# Ajuste de layout para evitar que los gráficos se superpongan\n",
    "plt.tight_layout()\n",
    "\n",
    "# Mostrar los gráficos\n",
    "plt.show()\n",
    "\n",
    "best_rmse, best_depth = sorted(zip(rmse_scores, max_depth_range))[0]\n",
    "print(f\"El mejor valor de RMSE es {best_rmse} con una profundidad máxima (max_depth) de {best_depth}.\")\n",
    "\n",
    "# Mejor R-squared (desempeño del modelo) y su correspondiente max_depth\n",
    "best_r2, best_depth = sorted(zip(r2_scores, max_depth_range), reverse=True)[0]\n",
    "print(f\"El mejor valor de R-squared es {best_r2:.4f} con una profundidad máxima (max_depth) de {best_depth}.\")"
   ]
  },
  {
   "cell_type": "code",
   "execution_count": 63,
   "metadata": {},
   "outputs": [
    {
     "name": "stdout",
     "output_type": "stream",
     "text": [
      "RMSE: 118.53437736524162\n",
      "R² del modelo de Árbol de Decisión: 0.5682153910408011\n"
     ]
    }
   ],
   "source": [
    "# max_depth=46 fue el mejor, se ajusta un árbol usando este valor \n",
    "clf = DecisionTreeRegressor(max_depth=6, random_state=1)\n",
    "clf.fit(xTrain, yTrain)\n",
    "\n",
    "# Predicción del modelo de arbol de regresion\n",
    "y_pred_tr = clf.predict(xTest)\n",
    "\n",
    "#  Calcular el R² y el Error Cuadrático Medio (RMSE)\n",
    "rmse_tr = np.sqrt(mean_squared_error(yTest, y_pred_tr))\n",
    "print(f\"RMSE: {rmse_tr}\")\n",
    "\n",
    "r2 = r2_score(yTest, y_pred_tr)\n",
    "print(\"R² del modelo de Árbol de Decisión:\", r2)"
   ]
  },
  {
   "cell_type": "markdown",
   "metadata": {},
   "source": [
    "## Comparacion de Modelo de Regresion lineal vs Arbol de Regresion\n",
    "\n",
    "- Al momento de conseguir el mejor desempeño del Arbol de decision, se obtiene que el mejor desempeño para las metricas de RMSE Y R-Squared ocurren cuando los nodos finales son 6. Luego, al entrenar el modelo de Arbol de Regresion usando como parametros estos 6 nodos finales, y evaluando el modelo en el conjunto de prueba, se obtiene un RMSE más bajo que el modelo de regresión lineal, lo cual indica que el modelo es mucho mejor que el primero, pero aún así sigue siendo un RMSE bastante alto.\n",
    "- Por otro lado, al analizar el R-squared, se obtiene que para el modelo de Arbol el R-squared es de 0.56 siendo más alto que el modelo de regresión lineal, esto indica que, el modelo logra explicar mejor la variacion de los datos, pero siguen siendo un modelo bastante pobre.\n",
    "\n",
    "Conclusion: El Modelo de Arbol de Regresion tiene  mejores métricas  que el modelo de Regresion lineal, pero a pesar de esto, siguen siendo métricas muy pobres que se pueden mejorar teniendo otras consideraciones (considerando más variables, más datos, otros modelos)."
   ]
  },
  {
   "cell_type": "markdown",
   "metadata": {},
   "source": [
    "## Parte B - Métodos de ensamblajes\n",
    "En esta parte del taller se usará el conjunto de datos de Popularidad de Noticias Online. El objetivo es predecir si la notica es popular o no, la popularidad está dada por la cantidad de reacciones en redes sociales. Para más detalles puede visitar el siguiente enlace: [datos](https://archive.ics.uci.edu/ml/datasets/online+news+popularity)."
   ]
  },
  {
   "cell_type": "markdown",
   "metadata": {},
   "source": [
    "### Datos popularidad de noticias"
   ]
  },
  {
   "cell_type": "code",
   "execution_count": 61,
   "metadata": {},
   "outputs": [
    {
     "data": {
      "text/html": [
       "<div>\n",
       "<style scoped>\n",
       "    .dataframe tbody tr th:only-of-type {\n",
       "        vertical-align: middle;\n",
       "    }\n",
       "\n",
       "    .dataframe tbody tr th {\n",
       "        vertical-align: top;\n",
       "    }\n",
       "\n",
       "    .dataframe thead th {\n",
       "        text-align: right;\n",
       "    }\n",
       "</style>\n",
       "<table border=\"1\" class=\"dataframe\">\n",
       "  <thead>\n",
       "    <tr style=\"text-align: right;\">\n",
       "      <th></th>\n",
       "      <th>url</th>\n",
       "      <th>timedelta</th>\n",
       "      <th>n_tokens_title</th>\n",
       "      <th>n_tokens_content</th>\n",
       "      <th>n_unique_tokens</th>\n",
       "      <th>n_non_stop_words</th>\n",
       "      <th>n_non_stop_unique_tokens</th>\n",
       "      <th>num_hrefs</th>\n",
       "      <th>num_self_hrefs</th>\n",
       "      <th>num_imgs</th>\n",
       "      <th>...</th>\n",
       "      <th>min_positive_polarity</th>\n",
       "      <th>max_positive_polarity</th>\n",
       "      <th>avg_negative_polarity</th>\n",
       "      <th>min_negative_polarity</th>\n",
       "      <th>max_negative_polarity</th>\n",
       "      <th>title_subjectivity</th>\n",
       "      <th>title_sentiment_polarity</th>\n",
       "      <th>abs_title_subjectivity</th>\n",
       "      <th>abs_title_sentiment_polarity</th>\n",
       "      <th>Popular</th>\n",
       "    </tr>\n",
       "  </thead>\n",
       "  <tbody>\n",
       "    <tr>\n",
       "      <th>0</th>\n",
       "      <td>http://mashable.com/2014/12/10/cia-torture-rep...</td>\n",
       "      <td>28.0</td>\n",
       "      <td>9.0</td>\n",
       "      <td>188.0</td>\n",
       "      <td>0.732620</td>\n",
       "      <td>1.0</td>\n",
       "      <td>0.844262</td>\n",
       "      <td>5.0</td>\n",
       "      <td>1.0</td>\n",
       "      <td>1.0</td>\n",
       "      <td>...</td>\n",
       "      <td>0.200000</td>\n",
       "      <td>0.80</td>\n",
       "      <td>-0.487500</td>\n",
       "      <td>-0.60</td>\n",
       "      <td>-0.250000</td>\n",
       "      <td>0.9</td>\n",
       "      <td>0.8</td>\n",
       "      <td>0.4</td>\n",
       "      <td>0.8</td>\n",
       "      <td>1</td>\n",
       "    </tr>\n",
       "    <tr>\n",
       "      <th>1</th>\n",
       "      <td>http://mashable.com/2013/10/18/bitlock-kicksta...</td>\n",
       "      <td>447.0</td>\n",
       "      <td>7.0</td>\n",
       "      <td>297.0</td>\n",
       "      <td>0.653199</td>\n",
       "      <td>1.0</td>\n",
       "      <td>0.815789</td>\n",
       "      <td>9.0</td>\n",
       "      <td>4.0</td>\n",
       "      <td>1.0</td>\n",
       "      <td>...</td>\n",
       "      <td>0.160000</td>\n",
       "      <td>0.50</td>\n",
       "      <td>-0.135340</td>\n",
       "      <td>-0.40</td>\n",
       "      <td>-0.050000</td>\n",
       "      <td>0.1</td>\n",
       "      <td>-0.1</td>\n",
       "      <td>0.4</td>\n",
       "      <td>0.1</td>\n",
       "      <td>0</td>\n",
       "    </tr>\n",
       "    <tr>\n",
       "      <th>2</th>\n",
       "      <td>http://mashable.com/2013/07/24/google-glass-po...</td>\n",
       "      <td>533.0</td>\n",
       "      <td>11.0</td>\n",
       "      <td>181.0</td>\n",
       "      <td>0.660377</td>\n",
       "      <td>1.0</td>\n",
       "      <td>0.775701</td>\n",
       "      <td>4.0</td>\n",
       "      <td>3.0</td>\n",
       "      <td>1.0</td>\n",
       "      <td>...</td>\n",
       "      <td>0.136364</td>\n",
       "      <td>1.00</td>\n",
       "      <td>0.000000</td>\n",
       "      <td>0.00</td>\n",
       "      <td>0.000000</td>\n",
       "      <td>0.3</td>\n",
       "      <td>1.0</td>\n",
       "      <td>0.2</td>\n",
       "      <td>1.0</td>\n",
       "      <td>0</td>\n",
       "    </tr>\n",
       "    <tr>\n",
       "      <th>3</th>\n",
       "      <td>http://mashable.com/2013/11/21/these-are-the-m...</td>\n",
       "      <td>413.0</td>\n",
       "      <td>12.0</td>\n",
       "      <td>781.0</td>\n",
       "      <td>0.497409</td>\n",
       "      <td>1.0</td>\n",
       "      <td>0.677350</td>\n",
       "      <td>10.0</td>\n",
       "      <td>3.0</td>\n",
       "      <td>1.0</td>\n",
       "      <td>...</td>\n",
       "      <td>0.100000</td>\n",
       "      <td>1.00</td>\n",
       "      <td>-0.195701</td>\n",
       "      <td>-0.40</td>\n",
       "      <td>-0.071429</td>\n",
       "      <td>0.0</td>\n",
       "      <td>0.0</td>\n",
       "      <td>0.5</td>\n",
       "      <td>0.0</td>\n",
       "      <td>0</td>\n",
       "    </tr>\n",
       "    <tr>\n",
       "      <th>4</th>\n",
       "      <td>http://mashable.com/2014/02/11/parking-ticket-...</td>\n",
       "      <td>331.0</td>\n",
       "      <td>8.0</td>\n",
       "      <td>177.0</td>\n",
       "      <td>0.685714</td>\n",
       "      <td>1.0</td>\n",
       "      <td>0.830357</td>\n",
       "      <td>3.0</td>\n",
       "      <td>2.0</td>\n",
       "      <td>1.0</td>\n",
       "      <td>...</td>\n",
       "      <td>0.100000</td>\n",
       "      <td>0.55</td>\n",
       "      <td>-0.175000</td>\n",
       "      <td>-0.25</td>\n",
       "      <td>-0.100000</td>\n",
       "      <td>0.0</td>\n",
       "      <td>0.0</td>\n",
       "      <td>0.5</td>\n",
       "      <td>0.0</td>\n",
       "      <td>0</td>\n",
       "    </tr>\n",
       "  </tbody>\n",
       "</table>\n",
       "<p>5 rows × 61 columns</p>\n",
       "</div>"
      ],
      "text/plain": [
       "                                                 url  timedelta  \\\n",
       "0  http://mashable.com/2014/12/10/cia-torture-rep...       28.0   \n",
       "1  http://mashable.com/2013/10/18/bitlock-kicksta...      447.0   \n",
       "2  http://mashable.com/2013/07/24/google-glass-po...      533.0   \n",
       "3  http://mashable.com/2013/11/21/these-are-the-m...      413.0   \n",
       "4  http://mashable.com/2014/02/11/parking-ticket-...      331.0   \n",
       "\n",
       "   n_tokens_title  n_tokens_content  n_unique_tokens  n_non_stop_words  \\\n",
       "0             9.0             188.0         0.732620               1.0   \n",
       "1             7.0             297.0         0.653199               1.0   \n",
       "2            11.0             181.0         0.660377               1.0   \n",
       "3            12.0             781.0         0.497409               1.0   \n",
       "4             8.0             177.0         0.685714               1.0   \n",
       "\n",
       "   n_non_stop_unique_tokens  num_hrefs  num_self_hrefs  num_imgs  ...  \\\n",
       "0                  0.844262        5.0             1.0       1.0  ...   \n",
       "1                  0.815789        9.0             4.0       1.0  ...   \n",
       "2                  0.775701        4.0             3.0       1.0  ...   \n",
       "3                  0.677350       10.0             3.0       1.0  ...   \n",
       "4                  0.830357        3.0             2.0       1.0  ...   \n",
       "\n",
       "   min_positive_polarity  max_positive_polarity  avg_negative_polarity  \\\n",
       "0               0.200000                   0.80              -0.487500   \n",
       "1               0.160000                   0.50              -0.135340   \n",
       "2               0.136364                   1.00               0.000000   \n",
       "3               0.100000                   1.00              -0.195701   \n",
       "4               0.100000                   0.55              -0.175000   \n",
       "\n",
       "   min_negative_polarity  max_negative_polarity  title_subjectivity  \\\n",
       "0                  -0.60              -0.250000                 0.9   \n",
       "1                  -0.40              -0.050000                 0.1   \n",
       "2                   0.00               0.000000                 0.3   \n",
       "3                  -0.40              -0.071429                 0.0   \n",
       "4                  -0.25              -0.100000                 0.0   \n",
       "\n",
       "   title_sentiment_polarity  abs_title_subjectivity  \\\n",
       "0                       0.8                     0.4   \n",
       "1                      -0.1                     0.4   \n",
       "2                       1.0                     0.2   \n",
       "3                       0.0                     0.5   \n",
       "4                       0.0                     0.5   \n",
       "\n",
       "   abs_title_sentiment_polarity  Popular  \n",
       "0                           0.8        1  \n",
       "1                           0.1        0  \n",
       "2                           1.0        0  \n",
       "3                           0.0        0  \n",
       "4                           0.0        0  \n",
       "\n",
       "[5 rows x 61 columns]"
      ]
     },
     "execution_count": 61,
     "metadata": {},
     "output_type": "execute_result"
    }
   ],
   "source": [
    "# Lectura de la información de archivo .csv\n",
    "df = pd.read_csv('https://raw.githubusercontent.com/davidzarruk/MIAD_ML_NLP_2023/main/datasets/mashable.csv', index_col=0)\n",
    "df.head()"
   ]
  },
  {
   "cell_type": "code",
   "execution_count": 64,
   "metadata": {},
   "outputs": [
    {
     "data": {
      "text/plain": [
       "0.5"
      ]
     },
     "execution_count": 64,
     "metadata": {},
     "output_type": "execute_result"
    }
   ],
   "source": [
    "# Definición variable de interes y variables predictoras\n",
    "X = df.drop(['url', 'Popular'], axis=1)\n",
    "y = df['Popular']\n",
    "y.mean()"
   ]
  },
  {
   "cell_type": "code",
   "execution_count": 65,
   "metadata": {},
   "outputs": [],
   "source": [
    "# División de la muestra en set de entrenamiento y prueba\n",
    "from sklearn.model_selection import train_test_split\n",
    "X_train, X_test, y_train, y_test = train_test_split(X, y, random_state=1)"
   ]
  },
  {
   "cell_type": "markdown",
   "metadata": {},
   "source": [
    "### Punto 6 - Árbol de decisión y regresión logística\n",
    "En la celda 6 construya un árbol de decisión y una regresión logística. Para el árbol calibre al menos un parámetro y evalúe el desempeño de cada modelo usando las métricas de Accuracy y F1-Score."
   ]
  },
  {
   "cell_type": "code",
   "execution_count": 69,
   "metadata": {},
   "outputs": [
    {
     "name": "stdout",
     "output_type": "stream",
     "text": [
      "El mejor valor de ACCURACY es 0.6353333333333333 con una profundidad máxima (max_depth) de 2.\n"
     ]
    },
    {
     "data": {
      "image/png": "[encoded data removed]",
      "text/plain": [
       "<Figure size 640x480 with 1 Axes>"
      ]
     },
     "metadata": {},
     "output_type": "display_data"
    }
   ],
   "source": [
    "# Celda 6\n",
    "\n",
    "# Lista de valores para calibrar el criterio de parada de máxima profundidad (max_depth)\n",
    "max_depth_range = range(1, 21)\n",
    "\n",
    "# Lista para guardar los valores del RMSE para cada valor de máxima profundidad (max_depth)\n",
    "accuracy_scores = []\n",
    "\n",
    "# Loop para obtener el desempeño del modelo de acuerdo con la máxima profundidad\n",
    "for depth in max_depth_range:\n",
    "    # Definición del árbol de decisión usando DecisionTreeClassifier de la libreria sklearn\n",
    "    clf_2 = DecisionTreeClassifier(max_depth=depth, random_state=1)\n",
    "    accuracy_scores.append(cross_val_score(clf_2, X, y, cv=10, scoring='accuracy').mean())\n",
    "\n",
    "# Gráfica max_depth versus Accuracy (error del modelo)\n",
    "plt.plot(max_depth_range, accuracy_scores)\n",
    "plt.xlabel('max_depth')\n",
    "plt.ylabel('Accuracy')\n",
    "\n",
    "best_accuracy, best_depth = sorted(zip(accuracy_scores, max_depth_range))[::-1][0]\n",
    "print(f\"El mejor valor de ACCURACY es {best_accuracy} con una profundidad máxima (max_depth) de {best_depth}.\")\n"
   ]
  },
  {
   "cell_type": "code",
   "execution_count": null,
   "metadata": {},
   "outputs": [
    {
     "name": "stdout",
     "output_type": "stream",
     "text": [
      "El Accuracy para el Árbol de clasificación fue de:  0.6453333333333333\n",
      "El F1_score para el Árbol de clasificación fue de:  0.6448598130841121\n"
     ]
    }
   ],
   "source": [
    "# max_depth=2 fue el mejor, se ajusta un árbol usando este valor \n",
    "clf_2 = DecisionTreeClassifier(max_depth=2, random_state=1)\n",
    "clf_2.fit(X_train, y_train)\n",
    "\n",
    "# Predicción del modelo de árbol de clasificación\n",
    "y_pred_dc = clf_2.predict(X_test)\n",
    "\n",
    "# Calcular el accuracy\n",
    "accuracy_dc = metrics.accuracy_score(y_test, y_pred_dc)\n",
    "f1_dc = metrics.f1_score(y_test, y_pred_dc)\n",
    "\n",
    "# Imprimir el accuracy\n",
    "print(\"El Accuracy para el Árbol de clasificación fue de: \", accuracy_dc)\n",
    "print(\"El F1_score para el Árbol de clasificación fue de: \", f1_dc)"
   ]
  },
  {
   "cell_type": "code",
   "execution_count": 83,
   "metadata": {},
   "outputs": [
    {
     "name": "stdout",
     "output_type": "stream",
     "text": [
      "El Accuracy para la Regresion Logistica fue de: 0.6126666666666667\n",
      "El F1-score para la Regresion Logistica fue de: 0.6087542087542087\n"
     ]
    }
   ],
   "source": [
    "# Crear el clasificador de regresión logística\n",
    "logreg = LogisticRegression()\n",
    "\n",
    "# Entrenar el modelo con los datos de entrenamiento\n",
    "logreg.fit(X_train, y_train)\n",
    "\n",
    "# Realizar predicciones sobre el conjunto de prueba\n",
    "y_pred = logreg.predict(X_test)\n",
    "\n",
    "# Evaluar el modelo utilizando accuracy\n",
    "accuracy_rl = metrics.accuracy_score(y_test, y_pred)\n",
    "f1_rl = metrics.f1_score(y_test, y_pred)\n",
    "print(f\"El Accuracy para la Regresion Logistica fue de: {accuracy_rl}\")\n",
    "print(f\"El F1-score para la Regresion Logistica fue de: {f1_rl}\")"
   ]
  },
  {
   "cell_type": "markdown",
   "metadata": {},
   "source": [
    "## Comparacion de Modelos de Arbol de Clasificacion y Regresion Logistica\n",
    "\n",
    "- Para el modelo de Arbol de Clasificacion se calibró el modelo por medio del Accuracy, analizando para cual cantidad de nodos maximos se obtenía el maximo Accuracy. Después de esto, se entreno el modelo de Arbol de Clasificacion usando esta cantidad de nodos, para así evaluar el modelo y observar su desempeño en el Accuracy y el F1 score.\n",
    "- Para el modelo de regresion Logistica, solo se llamó el modelo y se entró con los datos de entrenamiento y se evaluó en los datos deprueba, para así  observar su desempeño.\n",
    "\n",
    "Se observa que para el modelo de Arbol  de Clasificacion se obtiene un Accuracy y un F1-score un poco  más alto que la regresion logistica,  es decir, el modelo de Arbol de Clasificacion está logrando una mayor clasificacion de predicciones correctar en comparcion con las incorrectas. \n",
    "Aunque para el Arbol se hayan obtenido unas mejores metricas, siguen siendo valores no muy buenos, por lo cual, será necesario considerr otros modelos o calibrar mejor el modelo, para obtener  mejores metricas."
   ]
  },
  {
   "cell_type": "markdown",
   "metadata": {},
   "source": [
    "### Punto 7 - Votación Mayoritaria\n",
    "En la celda 7 elabore un esamble con la metodología de **Votación mayoritaria** compuesto por 300 muestras bagged donde:\n",
    "\n",
    "-las primeras 100 muestras vienen de árboles de decisión donde max_depth tome un valor de su elección\\\n",
    "-las segundas 100 muestras vienen de árboles de decisión donde min_samples_leaf tome un valor de su elección\\\n",
    "-las últimas 100 muestras vienen de regresiones logísticas\n",
    "\n",
    "Evalúe cada uno de los tres modelos de manera independiente utilizando las métricas de Accuracy y F1-Score, luego evalúe el ensamble de modelos y compare los resultados. \n",
    "\n",
    "Nota: \n",
    "\n",
    "Para este ensamble de 300 modelos, deben hacer votación mayoritaria. Esto lo pueden hacer de distintas maneras. La más \"fácil\" es haciendo la votación \"manualmente\", como se hace a partir del minuto 5:45 del video de Ejemplo práctico de emsablajes en Coursera. Digo que es la más fácil porque si hacen la votación mayoritaria sobre las 300 predicciones van a obtener lo que se espera.\n",
    "\n",
    "Otra opción es: para cada uno de los 3 tipos de modelos, entrenar un ensamble de 100 modelos cada uno. Predecir para cada uno de esos tres ensambles y luego predecir como un ensamble de los 3 ensambles. La cuestión es que la votación mayoritaria al usar los 3 ensambles no necesariamente va a generar el mismo resultado que si hacen la votación mayoritaria directamente sobre los 300 modelos. Entonces, para los que quieran hacer esto, deben hacer ese último cálculo con cuidado.\n",
    "\n",
    "Para los que quieran hacerlo como ensamble de ensambles, digo que se debe hacer el ensamble final con cuidado por lo siguiente. Supongamos que:\n",
    "\n",
    "* para los 100 árboles del primer tipo, la votación mayoritaria es: 55% de los modelos predicen que la clase de una observación es \"1\"\n",
    "* para los 100 árboles del segundo tipo, la votación mayoritaria es: 55% de los modelos predicen que la clase de una observación es \"1\"\n",
    "* para las 100 regresiones logísticas, la votación mayoritaria es: 10% de los modelos predicen que la clase de una observación es \"1\"\n",
    "\n",
    "Si se hace la votación mayoritaria de los 300 modelos, la predicción de esa observación debería ser: (100*55%+100*55%+100*10%)/300 = 40% de los modelos votan porque la predicción debería ser \"1\". Es decir, la predicción del ensamble es \"0\" (dado que menos del 50% de modelos predijo un 1).\n",
    "\n",
    "Sin embargo, si miramos cada ensamble por separado, el primer ensamble predice \"1\", el segundo ensamble predice \"1\" y el último ensamble predice \"0\". Si hago votación mayoritaria sobre esto, la predicción va a ser \"1\", lo cual es distinto a si se hace la votación mayoritaria sobre los 300 modelos."
   ]
  },
  {
   "cell_type": "code",
   "execution_count": 131,
   "metadata": {},
   "outputs": [],
   "source": [
    "# Celda 7\n",
    "\n",
    "np.random.seed(42)\n",
    "\n",
    "#Listas para almacenar los modelos entrenados y sus predicciones\n",
    "predicciones_dt_max_depth = []\n",
    "predicciones_dt_min_samples_leaf = []\n",
    "predicciones_lr = []\n",
    "\n",
    "# Definir los hiperparámetros para los modelos\n",
    "max_depth_value = 2 \n",
    "min_samples_leaf_value = 4  \n",
    "\n",
    "# Número de muestras bagged\n",
    "n_estimators = 100\n",
    "\n",
    "# Creación de las muestras bootstrap (bagging)\n",
    "n_samples = X_train.shape[0]\n",
    "\n",
    "# Entrenar 100 Árboles de Decisión con max_depth\n",
    "for _ in range(n_estimators):\n",
    "    clf = DecisionTreeClassifier(max_depth=max_depth_value, random_state=1)\n",
    "    sample_idx = np.random.choice(n_samples, n_samples, replace=True)\n",
    "    X_resampled, y_resampled = X_train.iloc[sample_idx], y_train.iloc[sample_idx]\n",
    "    clf.fit(X_resampled, y_resampled)\n",
    "    predicciones_dt_max_depth.append(clf.predict(X_test))\n",
    "\n",
    "# Entrenar 100 Árboles de Decisión con min_samples_leaf\n",
    "for _ in range(n_estimators):\n",
    "    clf = DecisionTreeClassifier(min_samples_leaf=min_samples_leaf_value, random_state=42)\n",
    "    sample_idx = np.random.choice(n_samples, n_samples, replace=True)\n",
    "    X_resampled, y_resampled = X_train.iloc[sample_idx], y_train.iloc[sample_idx]\n",
    "    clf.fit(X_resampled, y_resampled)\n",
    "    predicciones_dt_min_samples_leaf.append(clf.predict(X_test))\n",
    "\n",
    "# Entrenar 100 modelos de Reresion  Logistica\n",
    "for _ in range(n_estimators):\n",
    "    clf = LogisticRegression()\n",
    "    sample_idx = np.random.choice(n_samples, n_samples, replace=True)\n",
    "    X_resampled, y_resampled = X_train.iloc[sample_idx], y_train.iloc[sample_idx]\n",
    "    clf.fit(X_resampled, y_resampled)\n",
    "    predicciones_lr.append(clf.predict(X_test))"
   ]
  },
  {
   "cell_type": "code",
   "execution_count": 132,
   "metadata": {},
   "outputs": [
    {
     "name": "stdout",
     "output_type": "stream",
     "text": [
      "Accuracy Árbol de Decisión con max_depth: 0.6453333333333333\n",
      "F1-Score Árbol de Decisión con max_depth: 0.6434316353887399\n",
      "Accuracy Árbol de Decisión con min_samples_leaf: 0.6506666666666666\n",
      "F1-Score Árbol de Decisión con min_samples_leaf: 0.636615811373093\n",
      "Accuracy Regresión Logística: 0.6173333333333333\n",
      "F1-Score Regresión Logística: 0.6121621621621621\n"
     ]
    }
   ],
   "source": [
    "predicciones_dt_max_depth = np.array(predicciones_dt_max_depth).T  # Forma (n_test_samples, n_estimators)\n",
    "predicciones_dt_min_samples_leaf = np.array(predicciones_dt_min_samples_leaf).T\n",
    "predicciones_lr = np.array(predicciones_lr).T\n",
    "\n",
    "# Votación mayoritaria \n",
    "y_pred_dt_max_depth = (predicciones_dt_max_depth.sum(axis=1) >= n_estimators / 2).astype(int)\n",
    "y_pred_dt_min_samples_leaf = (predicciones_dt_min_samples_leaf.sum(axis=1) >= n_estimators / 2).astype(int)\n",
    "y_pred_lr = (predicciones_lr.sum(axis=1) >= n_estimators / 2).astype(int)\n",
    "\n",
    "# Evaluación de los modelos por separado usando Accuracy y F1-Score\n",
    "accuracy_dt_max_depth = metrics.accuracy_score(y_test, y_pred_dt_max_depth)\n",
    "f1_dt_max_depth = metrics.f1_score(y_test, y_pred_dt_max_depth)\n",
    "\n",
    "accuracy_dt_min_samples_leaf = metrics.accuracy_score(y_test, y_pred_dt_min_samples_leaf)\n",
    "f1_dt_min_samples_leaf = metrics.f1_score(y_test, y_pred_dt_min_samples_leaf)\n",
    "\n",
    "accuracy_lr = metrics.accuracy_score(y_test, y_pred_lr)\n",
    "f1_lr = metrics.f1_score(y_test, y_pred_lr)\n",
    "\n",
    "print(f\"Accuracy Árbol de Decisión con max_depth: {accuracy_dt_max_depth}\")\n",
    "print(f\"F1-Score Árbol de Decisión con max_depth: {f1_dt_max_depth}\")\n",
    "print(f\"Accuracy Árbol de Decisión con min_samples_leaf: {accuracy_dt_min_samples_leaf}\")\n",
    "print(f\"F1-Score Árbol de Decisión con min_samples_leaf: {f1_dt_min_samples_leaf}\")\n",
    "print(f\"Accuracy Regresión Logística: {accuracy_lr}\")\n",
    "print(f\"F1-Score Regresión Logística: {f1_lr}\")"
   ]
  },
  {
   "cell_type": "code",
   "execution_count": 133,
   "metadata": {},
   "outputs": [
    {
     "name": "stdout",
     "output_type": "stream",
     "text": [
      "Accuracy Ensamble: 0.6286666666666667\n",
      "F1-Score Ensamble: 0.6177076183939602\n"
     ]
    }
   ],
   "source": [
    "# Votación mayoritaria para el ensamble\n",
    "y_pred_ensemble = (np.concatenate([predicciones_dt_max_depth, \n",
    "                                   predicciones_dt_min_samples_leaf, \n",
    "                                   predicciones_lr], axis=1).sum(axis=1) >= 1.5 * n_estimators).astype(int)\n",
    "\n",
    "#Evaluación del desempeño del ensamble\n",
    "accuracy_ensemble = metrics.accuracy_score(y_test, y_pred_ensemble)\n",
    "f1_ensemble = metrics.f1_score(y_test, y_pred_ensemble)\n",
    "\n",
    "print(f\"Accuracy Ensamble: {accuracy_ensemble}\")\n",
    "print(f\"F1-Score Ensamble: {f1_ensemble}\")"
   ]
  },
  {
   "cell_type": "markdown",
   "metadata": {},
   "source": [
    "### Analisis\n",
    "\n",
    "Se entrenarion 300 muestras bagged, para un Árbol de Decision con max_depth, otro Árbol con min_samples_leaf y uno de Regresion logistica, el primer y tercer modelo tenían los mismos parametros del punto anterior. Después, se realizó un modelo de ensamblaje con estos 3 modelos, realizando votación mayoritaria para obtener las predicciones finales y los desempeños de cada modelo.\n",
    "\n",
    "- Al evaluar cada modelo por separado en cada una de sus 100 muestras, se observa que el modelo de Abol por min_samples_leaf obtiene el mejor Accuracy y el F1-score , comparado con los otros dos modelos.\n",
    "- Al realizar boostrap en el modelo de Arbol de Decisión con max_depth y compararlo con el punto anterior, se observa que las métricas no mejoraron al realizar boostrap.\n",
    "- Comparando el modelo de Regresion Logistica con el punto anterior,  se observa que se obtuvieron métricas similares, realizar boostrap y luego votacion mayoritaria, no aumentó el desempeño del modelo.\n",
    "- Por último, al analizar el modelo de ensamblaaje, se obtienen metricas similares a los otros 3 modelos, incluso las métricas son un poco más bajas que el modelo de Arbol de decision por min_samples_leaf. Es posible que estos modelos no sean muy diferentes internamente, por lo cual, no están  logrando aportar información suficiente."
   ]
  },
  {
   "cell_type": "markdown",
   "metadata": {},
   "source": [
    "### Punto 8 - Votación Ponderada\n",
    "En la celda 8 elabore un ensamble con la metodología de **Votación ponderada** compuesto por 300 muestras bagged para los mismos tres escenarios del punto 7. Evalúe los modelos utilizando las métricas de Accuracy y F1-Score"
   ]
  },
  {
   "cell_type": "code",
   "execution_count": 134,
   "metadata": {},
   "outputs": [
    {
     "name": "stdout",
     "output_type": "stream",
     "text": [
      "Votación Ponderada - Accuracy: 0.6286666666666667\n",
      "Votación Ponderada - F1-Score: 0.6182316655243317\n"
     ]
    }
   ],
   "source": [
    "# Calculando el Accuracy  de cada modelo\n",
    "accuracy_dt_max_depth = np.mean([metrics.accuracy_score(y_test, pred) for pred in predicciones_dt_max_depth.T])\n",
    "accuracy_dt_min_samples_leaf = np.mean([metrics.accuracy_score(y_test, pred) for pred in predicciones_dt_min_samples_leaf.T])\n",
    "accuracy_lr = np.mean([metrics.accuracy_score(y_test, pred) for pred in predicciones_lr.T])\n",
    "\n",
    "#Calculando los pesos\n",
    "alpha = (1 - np.array([accuracy_dt_max_depth, accuracy_dt_min_samples_leaf, accuracy_lr])) \n",
    "alpha /= alpha.sum()  #\n",
    "\n",
    "#Promedio ponderado\n",
    "weighted_sum = (\n",
    "    alpha[0] * np.array(predicciones_dt_max_depth).mean(axis=1) + \n",
    "    alpha[1] * np.array(predicciones_dt_min_samples_leaf).mean(axis=1) + \n",
    "    alpha[2] * np.array(predicciones_lr).mean(axis=1)\n",
    ")\n",
    "\n",
    "#Votación ponderada (umbral 0.5)\n",
    "y_pred = (weighted_sum >= 0.5).astype(int)\n",
    "\n",
    "#Evaluar la precisión y el F1-Score para la votación ponderada\n",
    "accuracy_weighted = metrics.accuracy_score(y_test, y_pred)\n",
    "f1_weighted = metrics.f1_score(y_test, y_pred)\n",
    "\n",
    "print(f\"Votación Ponderada - Accuracy: {accuracy_weighted}\")\n",
    "print(f\"Votación Ponderada - F1-Score: {f1_weighted}\")"
   ]
  },
  {
   "cell_type": "markdown",
   "metadata": {},
   "source": [
    "### Punto 9 - Comparación y análisis de resultados\n",
    "En la celda 9 comente sobre los resultados obtenidos con las metodologías usadas en los puntos 7 y 8, compare los resultados y enuncie posibles ventajas o desventajas de cada una de ellas."
   ]
  },
  {
   "cell_type": "markdown",
   "metadata": {},
   "source": [
    "Ambos métodos muestran mejoras sobre algunos de los modelos individuales, lo que confirma que el ensamblaje de modelos podría ser beneficioso. La votación ponderada tiene una ligera ventaja en F1-Score, lo que hace un poco beneficiosa respecto al otro modelo. Sin embargo, la votación mayoritaria sigue siendo una opción más fácil de implementar.\n",
    "\n",
    "En el caso de la Votaacion Mayoritaria, tiene una desventaja y es que no toma en cuenta el rendimiento individual de cad modelo y los modelos con mas bajo rendimiento pueden afectar los resultados finales. A pesar de esto,  esta calse de ensamblajes son bastante recomendables ya que es  muy sencillo implementarlos y  reduce el sesgo de los modelos individuales al combinar varios predictores.\n",
    "\n",
    "Por otro lado, se tiene el modelo de votacion ponderada el cual obtuvo un F1-score un poco mayor al modelo de votación mayoritaria, encontrando una mejor precisión entre el recall y el accuracy. Este modelo se destaca porque le asigna un mayor peso a los modelos más confiables y mejora el F1-score de los modelos al reducir el impcto de los modelos menos confiables, pero como se requiere calcular unos pesos adecuados para cada modelo, se vuelve un poco más complejo."
   ]
  }
 ],
 "metadata": {
  "kernelspec": {
   "display_name": "Python 3",
   "language": "python",
   "name": "python3"
  },
  "language_info": {
   "codemirror_mode": {
    "name": "ipython",
    "version": 3
   },
   "file_extension": ".py",
   "mimetype": "text/x-python",
   "name": "python",
   "nbconvert_exporter": "python",
   "pygments_lexer": "ipython3",
   "version": "3.11.9"
  }
 },
 "nbformat": 4,
 "nbformat_minor": 4
}
